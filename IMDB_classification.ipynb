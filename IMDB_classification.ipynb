{
  "metadata": {
    "kernelspec": {
      "name": "python3",
      "display_name": "Python 3",
      "language": "python"
    },
    "language_info": {
      "name": "python",
      "version": "3.11.11",
      "mimetype": "text/x-python",
      "codemirror_mode": {
        "name": "ipython",
        "version": 3
      },
      "pygments_lexer": "ipython3",
      "nbconvert_exporter": "python",
      "file_extension": ".py"
    },
    "colab": {
      "provenance": [],
      "name": "IMDB classification",
      "include_colab_link": true
    },
    "kaggle": {
      "accelerator": "gpu",
      "dataSources": [
        {
          "sourceId": 320111,
          "sourceType": "datasetVersion",
          "datasetId": 134715
        },
        {
          "sourceId": 2579,
          "sourceType": "modelInstanceVersion",
          "modelInstanceId": 1882,
          "modelId": 244
        },
        {
          "sourceId": 2938,
          "sourceType": "modelInstanceVersion",
          "modelInstanceId": 2180,
          "modelId": 244
        }
      ],
      "isInternetEnabled": false,
      "language": "python",
      "sourceType": "notebook",
      "isGpuEnabled": true
    }
  },
  "nbformat_minor": 0,
  "nbformat": 4,
  "cells": [
    {
      "cell_type": "markdown",
      "metadata": {
        "id": "view-in-github",
        "colab_type": "text"
      },
      "source": [
        "<a href=\"https://colab.research.google.com/github/stupidboy-dev/IMDB-classification/blob/main/IMDB_classification.ipynb\" target=\"_parent\"><img src=\"https://colab.research.google.com/assets/colab-badge.svg\" alt=\"Open In Colab\"/></a>"
      ]
    },
    {
      "source": [
        "# IMPORTANT: RUN THIS CELL IN ORDER TO IMPORT YOUR KAGGLE DATA SOURCES,\n",
        "# THEN FEEL FREE TO DELETE THIS CELL.\n",
        "# NOTE: THIS NOTEBOOK ENVIRONMENT DIFFERS FROM KAGGLE'S PYTHON\n",
        "# ENVIRONMENT SO THERE MAY BE MISSING LIBRARIES USED BY YOUR\n",
        "# NOTEBOOK.\n",
        "import kagglehub\n",
        "lakshmi25npathi_imdb_dataset_of_50k_movie_reviews_path = kagglehub.dataset_download('lakshmi25npathi/imdb-dataset-of-50k-movie-reviews')\n",
        "tensorflow_bert_tensorflow2_en_uncased_l_12_h_768_a_12_3_path = kagglehub.model_download('tensorflow/bert/TensorFlow2/en-uncased-l-12-h-768-a-12/3')\n",
        "tensorflow_bert_tensorflow2_en_uncased_preprocess_3_path = kagglehub.model_download('tensorflow/bert/TensorFlow2/en-uncased-preprocess/3')\n",
        "\n",
        "print('Data source import complete.')\n"
      ],
      "metadata": {
        "id": "PkxiDnHAb6Yg"
      },
      "cell_type": "code",
      "outputs": [],
      "execution_count": null
    },
    {
      "cell_type": "code",
      "source": [
        "import tensorflow as tf\n",
        "import pandas as pd\n",
        "import numpy as np\n",
        "import sys\n",
        "\n",
        "if not sys.warnoptions:\n",
        "    import warnings\n",
        "    warnings.simplefilter(\"ignore\")\n",
        "df = pd.read_csv(r\"/kaggle/input/imdb-dataset-of-50k-movie-reviews/IMDB Dataset.csv\",\n",
        "                 on_bad_lines=\"skip\",\n",
        "                engine='python',)\n",
        "\n",
        "print(df.isna().sum())\n",
        "print(df.isnull().sum())\n",
        "df['sentiment'] = df['sentiment'].fillna('unknown')\n",
        "df.drop(df[df['sentiment'] == 'unknown'].index, inplace=True)\n",
        "print(df.isna().sum())\n",
        "print(df.isnull().sum())\n",
        "df['sentiment'].value_counts()\n",
        "\n",
        "df['sentiment'] = df['sentiment'].map({\"negative\":0,\"positive\":1})"
      ],
      "metadata": {
        "colab": {
          "base_uri": "https://localhost:8080/"
        },
        "id": "jDQQalE_brf0",
        "outputId": "b2b1b80e-39fc-46f1-9e0b-a8de36142d1c",
        "trusted": true,
        "execution": {
          "iopub.status.busy": "2025-04-20T10:23:11.568726Z",
          "iopub.execute_input": "2025-04-20T10:23:11.568989Z",
          "iopub.status.idle": "2025-04-20T10:23:25.934417Z",
          "shell.execute_reply.started": "2025-04-20T10:23:11.56897Z",
          "shell.execute_reply": "2025-04-20T10:23:25.933792Z"
        }
      },
      "outputs": [
        {
          "name": "stderr",
          "text": "2025-04-20 10:23:13.007730: E external/local_xla/xla/stream_executor/cuda/cuda_fft.cc:477] Unable to register cuFFT factory: Attempting to register factory for plugin cuFFT when one has already been registered\nWARNING: All log messages before absl::InitializeLog() is called are written to STDERR\nE0000 00:00:1745144593.211053      31 cuda_dnn.cc:8310] Unable to register cuDNN factory: Attempting to register factory for plugin cuDNN when one has already been registered\nE0000 00:00:1745144593.272160      31 cuda_blas.cc:1418] Unable to register cuBLAS factory: Attempting to register factory for plugin cuBLAS when one has already been registered\n",
          "output_type": "stream"
        },
        {
          "name": "stdout",
          "text": "review       0\nsentiment    0\ndtype: int64\nreview       0\nsentiment    0\ndtype: int64\nreview       0\nsentiment    0\ndtype: int64\nreview       0\nsentiment    0\ndtype: int64\n",
          "output_type": "stream"
        }
      ],
      "execution_count": null
    },
    {
      "cell_type": "code",
      "source": [
        "from sklearn.model_selection import train_test_split\n",
        "\n",
        "X = df['review']\n",
        "y = df.sentiment\n",
        "\n",
        "from sklearn.model_selection import train_test_split\n",
        "\n",
        "X_train, X_test, y_train, y_test = train_test_split(X, y, test_size=0.2, random_state=42)\n",
        "X_train = pd.DataFrame(data=X_train)\n",
        "\n",
        "data_train = tf.data.Dataset.from_tensor_slices((X_train, y_train))\n",
        "data_train = data_train.batch(64).prefetch(tf.data.AUTOTUNE).cache()"
      ],
      "metadata": {
        "id": "6oaR1vuDbvTL",
        "colab": {
          "base_uri": "https://localhost:8080/"
        },
        "outputId": "7d19e85e-a8b8-4996-cd22-abeff931e825",
        "trusted": true,
        "execution": {
          "iopub.status.busy": "2025-04-20T10:23:30.432385Z",
          "iopub.execute_input": "2025-04-20T10:23:30.432686Z",
          "iopub.status.idle": "2025-04-20T10:23:32.087555Z",
          "shell.execute_reply.started": "2025-04-20T10:23:30.432663Z",
          "shell.execute_reply": "2025-04-20T10:23:32.086725Z"
        }
      },
      "outputs": [
        {
          "name": "stderr",
          "text": "I0000 00:00:1745144611.964093      31 gpu_device.cc:2022] Created device /job:localhost/replica:0/task:0/device:GPU:0 with 15513 MB memory:  -> device: 0, name: Tesla P100-PCIE-16GB, pci bus id: 0000:00:04.0, compute capability: 6.0\n",
          "output_type": "stream"
        }
      ],
      "execution_count": null
    },
    {
      "cell_type": "code",
      "source": [
        "data_train"
      ],
      "metadata": {
        "colab": {
          "base_uri": "https://localhost:8080/"
        },
        "id": "71LZVkz-7_Pl",
        "outputId": "b9616ce9-4d53-4543-c124-2b484af07518",
        "trusted": true,
        "execution": {
          "iopub.status.busy": "2025-04-20T10:23:34.060982Z",
          "iopub.execute_input": "2025-04-20T10:23:34.061901Z",
          "iopub.status.idle": "2025-04-20T10:23:34.067041Z",
          "shell.execute_reply.started": "2025-04-20T10:23:34.061873Z",
          "shell.execute_reply": "2025-04-20T10:23:34.06627Z"
        }
      },
      "outputs": [
        {
          "execution_count": 3,
          "output_type": "execute_result",
          "data": {
            "text/plain": "<CacheDataset element_spec=(TensorSpec(shape=(None, 1), dtype=tf.string, name=None), TensorSpec(shape=(None,), dtype=tf.int64, name=None))>"
          },
          "metadata": {}
        }
      ],
      "execution_count": null
    },
    {
      "cell_type": "code",
      "source": [
        "import tf_keras as keras\n",
        "import tensorflow as tf\n",
        "import tensorflow_hub as hub\n",
        "import tensorflow_text as text\n",
        "\n",
        "# Инициализация слоев\n",
        "preprocessor = hub.KerasLayer(\n",
        "   \"https://kaggle.com/models/tensorflow/bert/TensorFlow2/en-uncased-preprocess/3\",\n",
        "    name=\"preprocessing\"\n",
        ")\n",
        "\n",
        "encoder = hub.KerasLayer(\n",
        "    \"https://kaggle.com/models/tensorflow/bert/TensorFlow2/en-uncased-l-12-h-768-a-12/3\",\n",
        "    trainable=True,\n",
        "    name=\"BERT_encoder\"\n",
        ")\n",
        "\n",
        "# Построение модели\n",
        "inputs = keras.Input(shape=(), dtype=tf.string, name='text')\n",
        "x = preprocessor(inputs)\n",
        "outputs = encoder(x)\n",
        "\n",
        "x = keras.layers.BatchNormalization()(outputs['pooled_output'])\n",
        "x = keras.layers.Dropout(0.1)(x)\n",
        "x = keras.layers.Dense(32, activation='relu')(x)\n",
        "predictions = keras.layers.Dense(1, activation='sigmoid')(x)\n",
        "\n",
        "model = keras.Model(inputs=[inputs], outputs=[predictions], name='gggg')\n",
        "\n",
        "model.summary()"
      ],
      "metadata": {
        "colab": {
          "base_uri": "https://localhost:8080/"
        },
        "id": "09tmINmBbzKs",
        "outputId": "469e3626-5286-4b9e-a758-70d4d45a58f9",
        "trusted": true,
        "execution": {
          "iopub.status.busy": "2025-04-20T10:23:38.990368Z",
          "iopub.execute_input": "2025-04-20T10:23:38.991175Z",
          "iopub.status.idle": "2025-04-20T10:24:22.250231Z",
          "shell.execute_reply.started": "2025-04-20T10:23:38.991148Z",
          "shell.execute_reply": "2025-04-20T10:24:22.249708Z"
        }
      },
      "outputs": [
        {
          "name": "stdout",
          "text": "Model: \"gggg\"\n__________________________________________________________________________________________________\n Layer (type)                Output Shape                 Param #   Connected to                  \n==================================================================================================\n text (InputLayer)           [(None,)]                    0         []                            \n                                                                                                  \n preprocessing (KerasLayer)  {'input_mask': (None, 128)   0         ['text[0][0]']                \n                             , 'input_type_ids': (None,                                           \n                              128),                                                               \n                              'input_word_ids': (None,                                            \n                             128)}                                                                \n                                                                                                  \n BERT_encoder (KerasLayer)   {'default': (None, 768),     1094822   ['preprocessing[0][0]',       \n                              'encoder_outputs': [(None   41         'preprocessing[0][1]',       \n                             , 128, 768),                            'preprocessing[0][2]']       \n                              (None, 128, 768),                                                   \n                              (None, 128, 768),                                                   \n                              (None, 128, 768),                                                   \n                              (None, 128, 768),                                                   \n                              (None, 128, 768),                                                   \n                              (None, 128, 768),                                                   \n                              (None, 128, 768),                                                   \n                              (None, 128, 768),                                                   \n                              (None, 128, 768),                                                   \n                              (None, 128, 768),                                                   \n                              (None, 128, 768)],                                                  \n                              'pooled_output': (None, 7                                           \n                             68),                                                                 \n                              'sequence_output': (None,                                           \n                              128, 768)}                                                          \n                                                                                                  \n batch_normalization (Batch  (None, 768)                  3072      ['BERT_encoder[0][13]']       \n Normalization)                                                                                   \n                                                                                                  \n dropout (Dropout)           (None, 768)                  0         ['batch_normalization[0][0]'] \n                                                                                                  \n dense (Dense)               (None, 32)                   24608     ['dropout[0][0]']             \n                                                                                                  \n dense_1 (Dense)             (None, 1)                    33        ['dense[0][0]']               \n                                                                                                  \n==================================================================================================\nTotal params: 109509954 (417.75 MB)\nTrainable params: 109508417 (417.74 MB)\nNon-trainable params: 1537 (6.00 KB)\n__________________________________________________________________________________________________\n",
          "output_type": "stream"
        }
      ],
      "execution_count": null
    },
    {
      "cell_type": "code",
      "source": [
        "with tf.device('/GPU:0'):\n",
        "  model.compile(\n",
        "        optimizer='SGD',\n",
        "        loss='binary_crossentropy',\n",
        "        metrics=['accuracy']\n",
        "    )\n",
        "\n",
        "  model.fit(data_train, epochs=10)"
      ],
      "metadata": {
        "id": "yCuSdPyPciVl",
        "colab": {
          "base_uri": "https://localhost:8080/"
        },
        "outputId": "d3b58076-7828-4285-bb4c-acad78ffc2dd",
        "trusted": true,
        "execution": {
          "iopub.status.busy": "2025-04-20T10:24:27.656748Z",
          "iopub.execute_input": "2025-04-20T10:24:27.657077Z",
          "iopub.status.idle": "2025-04-20T12:07:01.899083Z",
          "shell.execute_reply.started": "2025-04-20T10:24:27.657054Z",
          "shell.execute_reply": "2025-04-20T12:07:01.898501Z"
        }
      },
      "outputs": [
        {
          "name": "stdout",
          "text": "Epoch 1/10\n",
          "output_type": "stream"
        },
        {
          "name": "stderr",
          "text": "WARNING: All log messages before absl::InitializeLog() is called are written to STDERR\nI0000 00:00:1745144698.469937      90 service.cc:148] XLA service 0x7de6ef233fb0 initialized for platform CUDA (this does not guarantee that XLA will be used). Devices:\nI0000 00:00:1745144698.470490      90 service.cc:156]   StreamExecutor device (0): Tesla P100-PCIE-16GB, Compute Capability 6.0\nI0000 00:00:1745144698.501507      90 cuda_dnn.cc:529] Loaded cuDNN version 90300\nI0000 00:00:1745144698.584859      90 device_compiler.h:188] Compiled cluster using XLA!  This line is logged at most once for the lifetime of the process.\n",
          "output_type": "stream"
        },
        {
          "name": "stdout",
          "text": "625/625 [==============================] - 648s 980ms/step - loss: 0.3446 - accuracy: 0.8459\nEpoch 2/10\n625/625 [==============================] - 612s 979ms/step - loss: 0.2751 - accuracy: 0.8834\nEpoch 3/10\n625/625 [==============================] - 612s 979ms/step - loss: 0.2396 - accuracy: 0.8988\nEpoch 4/10\n625/625 [==============================] - 612s 979ms/step - loss: 0.2086 - accuracy: 0.9147\nEpoch 5/10\n625/625 [==============================] - 612s 979ms/step - loss: 0.1801 - accuracy: 0.9262\nEpoch 6/10\n625/625 [==============================] - 612s 979ms/step - loss: 0.1504 - accuracy: 0.9388\nEpoch 7/10\n625/625 [==============================] - 612s 979ms/step - loss: 0.1268 - accuracy: 0.9503\nEpoch 8/10\n625/625 [==============================] - 612s 979ms/step - loss: 0.1067 - accuracy: 0.9582\nEpoch 9/10\n625/625 [==============================] - 612s 978ms/step - loss: 0.0872 - accuracy: 0.9665\nEpoch 10/10\n625/625 [==============================] - 611s 978ms/step - loss: 0.0708 - accuracy: 0.9731\n",
          "output_type": "stream"
        }
      ],
      "execution_count": null
    },
    {
      "cell_type": "code",
      "source": [
        "model.evaluate(X_test, y_test)"
      ],
      "metadata": {
        "id": "_k-GCVgNqoBq",
        "colab": {
          "base_uri": "https://localhost:8080/"
        },
        "outputId": "03969fa7-5b38-4b0e-ee90-d0fa486bb7c8",
        "trusted": true,
        "execution": {
          "iopub.status.busy": "2025-04-20T12:08:23.572945Z",
          "iopub.execute_input": "2025-04-20T12:08:23.573217Z",
          "iopub.status.idle": "2025-04-20T12:09:22.672243Z",
          "shell.execute_reply.started": "2025-04-20T12:08:23.573195Z",
          "shell.execute_reply": "2025-04-20T12:09:22.671661Z"
        }
      },
      "outputs": [
        {
          "name": "stdout",
          "text": "313/313 [==============================] - 59s 186ms/step - loss: 0.5084 - accuracy: 0.8789\n",
          "output_type": "stream"
        },
        {
          "execution_count": 6,
          "output_type": "execute_result",
          "data": {
            "text/plain": "[0.5083507895469666, 0.8788999915122986]"
          },
          "metadata": {}
        }
      ],
      "execution_count": null
    },
    {
      "cell_type": "code",
      "source": [
        "text = [\n",
        "       'Its so goood, the best film with i ever seen']\n",
        "\n",
        "pred = model.predict(tf.constant(text))\n"
      ],
      "metadata": {
        "id": "koRgc6PCnBT-",
        "trusted": true,
        "execution": {
          "iopub.status.busy": "2025-04-20T12:21:46.584213Z",
          "iopub.execute_input": "2025-04-20T12:21:46.584476Z",
          "iopub.status.idle": "2025-04-20T12:21:46.664205Z",
          "shell.execute_reply.started": "2025-04-20T12:21:46.584455Z",
          "shell.execute_reply": "2025-04-20T12:21:46.663687Z"
        },
        "outputId": "44213b44-74f6-4624-9e63-f2a7552a4ebc"
      },
      "outputs": [
        {
          "name": "stdout",
          "text": "1/1 [==============================] - 0s 24ms/step\n",
          "output_type": "stream"
        }
      ],
      "execution_count": null
    },
    {
      "cell_type": "code",
      "source": [
        "def predict(text:list):\n",
        "    pred = model.predict(tf.constant(text))\n",
        "    if round(float(pred)) == 1:\n",
        "        return 'positive'\n",
        "    else:\n",
        "        return 'negative'\n",
        "\n",
        "\n",
        "ans = predict(['This tea has bright taste'])"
      ],
      "metadata": {
        "trusted": true,
        "execution": {
          "iopub.status.busy": "2025-04-20T12:34:27.627926Z",
          "iopub.execute_input": "2025-04-20T12:34:27.628448Z",
          "iopub.status.idle": "2025-04-20T12:34:27.704601Z",
          "shell.execute_reply.started": "2025-04-20T12:34:27.628426Z",
          "shell.execute_reply": "2025-04-20T12:34:27.704083Z"
        },
        "id": "K56NfXdZb6Yr",
        "outputId": "7a7d1d6d-b67b-4269-c2f1-3ff6647b3180"
      },
      "outputs": [
        {
          "name": "stdout",
          "text": "1/1 [==============================] - 0s 24ms/step\n",
          "output_type": "stream"
        }
      ],
      "execution_count": null
    },
    {
      "cell_type": "code",
      "source": [
        "ans"
      ],
      "metadata": {
        "trusted": true,
        "execution": {
          "iopub.status.busy": "2025-04-20T12:34:28.754512Z",
          "iopub.execute_input": "2025-04-20T12:34:28.755232Z",
          "iopub.status.idle": "2025-04-20T12:34:28.75928Z",
          "shell.execute_reply.started": "2025-04-20T12:34:28.755208Z",
          "shell.execute_reply": "2025-04-20T12:34:28.75871Z"
        },
        "id": "XRUVdaN5b6Yt",
        "outputId": "88a18f6d-8e43-4431-d5a4-0c0480918a15"
      },
      "outputs": [
        {
          "execution_count": 31,
          "output_type": "execute_result",
          "data": {
            "text/plain": "'positive'"
          },
          "metadata": {}
        }
      ],
      "execution_count": null
    },
    {
      "cell_type": "code",
      "source": [
        "sentences = [\n",
        "    # Позитивные (1)\n",
        "    \"This movie is absolutely fantastic and worth watching!\",\n",
        "    \"The service was exceptional, I'm thoroughly impressed.\",\n",
        "    \"While the interface feels outdated, the app's reliability and precision make it indispensable for professional use.\",\n",
        "    \"I was skeptical due to mixed reviews, but the daring flavor combinations and artistic presentation changed my mind completely.\",\n",
        "    \"The novel starts slow but rewards readers with a profound narrative on human resilience—left me intellectually stimulated.\",\n",
        "    \"Despite occasional lag during data loads, the app's innovative features save me hours weekly. A game-changer!\",\n",
        "    \"The product requires patience to master, but its customizability and 24/7 premium support justify every penny spent.\",\n",
        "    \"While not perfect, the developer's transparency in addressing bugs and implementing user feedback is truly commendable.\",\n",
        "    \"The workshop blended cutting-edge theory with real-world applications, sparking ideas I've already implemented successfully.\",\n",
        "    \"Though pricier than alternatives, the unmatched durability and eco-friendly manufacturing process make this ethical consumerism.\",\n",
        "\n",
        "    # Негативные (0)\n",
        "    \"This is the worst experience I've ever had, terrible service.\",\n",
        "    \"The film was boring and poorly directed, a complete waste of time.\",\n",
        "    \"The 'smart' features complicate basic tasks—what's advertised as intuitive requires constant tech support to navigate.\",\n",
        "    \"A textbook case of style over substance: stunning packaging hides poorly sourced materials and shoddy craftsmanship.\",\n",
        "    \"The course content recycled free YouTube tutorials while charging premium prices for 'expert' insights that never materialized.\",\n",
        "    \"Five firmware updates later, the device still overheats randomly while failing basic functions it was designed to perform.\",\n",
        "    \"Their 'eco-conscious' branding insults intelligence—products arrive wrapped in enough plastic to choke a sea turtle.\",\n",
        "    \"The retreat promises serenity but delivers construction noise by day and karaoke parties till midnight. False advertising at its finest.\",\n",
        "    \"After 3 warranty 'repairs' and endless support chats, the same critical flaw persists. Now they've stopped responding entirely.\",\n",
        "    \"Charges luxury prices for budget motel quality: stained linens, broken AC, and a 'spa' that's literally a converted storage closet.\"\n",
        "]\n",
        "\n",
        "labels = [1, 1, 1, 1, 1, 1, 1, 1, 1, 1, 0, 0, 0, 0, 0, 0, 0, 0, 0, 0]\n",
        "pred = []\n",
        "for text in sentences:\n",
        "    pred.append(predict([text]))\n",
        "\n",
        "pred = [1 if t == 'positive' else 0 for t in pred]\n",
        "print(pred)\n",
        "print(labels)\n",
        "pred == labels"
      ],
      "metadata": {
        "trusted": true,
        "execution": {
          "iopub.status.busy": "2025-04-20T13:39:13.304281Z",
          "iopub.execute_input": "2025-04-20T13:39:13.305044Z",
          "iopub.status.idle": "2025-04-20T13:39:14.797919Z",
          "shell.execute_reply.started": "2025-04-20T13:39:13.30502Z",
          "shell.execute_reply": "2025-04-20T13:39:14.797166Z"
        },
        "id": "aS1bGGCNb6Yu",
        "outputId": "4822a02a-0dc3-4e82-c055-da6d48525f09"
      },
      "outputs": [
        {
          "name": "stdout",
          "text": "1/1 [==============================] - 0s 26ms/step\n1/1 [==============================] - 0s 26ms/step\n1/1 [==============================] - 0s 25ms/step\n1/1 [==============================] - 0s 26ms/step\n1/1 [==============================] - 0s 25ms/step\n1/1 [==============================] - 0s 25ms/step\n1/1 [==============================] - 0s 25ms/step\n1/1 [==============================] - 0s 25ms/step\n1/1 [==============================] - 0s 24ms/step\n1/1 [==============================] - 0s 24ms/step\n1/1 [==============================] - 0s 24ms/step\n1/1 [==============================] - 0s 26ms/step\n1/1 [==============================] - 0s 26ms/step\n1/1 [==============================] - 0s 25ms/step\n1/1 [==============================] - 0s 24ms/step\n1/1 [==============================] - 0s 24ms/step\n1/1 [==============================] - 0s 24ms/step\n1/1 [==============================] - 0s 24ms/step\n1/1 [==============================] - 0s 24ms/step\n1/1 [==============================] - 0s 24ms/step\n[1, 1, 1, 1, 1, 1, 1, 1, 1, 0, 0, 0, 1, 0, 0, 0, 0, 0, 0, 0]\n[1, 1, 1, 1, 1, 1, 1, 1, 1, 1, 0, 0, 0, 0, 0, 0, 0, 0, 0, 0]\n",
          "output_type": "stream"
        },
        {
          "execution_count": 48,
          "output_type": "execute_result",
          "data": {
            "text/plain": "False"
          },
          "metadata": {}
        }
      ],
      "execution_count": null
    },
    {
      "cell_type": "code",
      "source": [
        "from sklearn.metrics import classification_report\n",
        "\n",
        "predictions = model.predict(X_test)"
      ],
      "metadata": {
        "trusted": true,
        "execution": {
          "iopub.status.busy": "2025-04-20T12:45:36.506532Z",
          "iopub.execute_input": "2025-04-20T12:45:36.507181Z",
          "iopub.status.idle": "2025-04-20T12:46:35.444058Z",
          "shell.execute_reply.started": "2025-04-20T12:45:36.507159Z",
          "shell.execute_reply": "2025-04-20T12:46:35.443111Z"
        },
        "id": "p3KEFNqWb6Yw",
        "outputId": "48977c1e-6650-46ad-b88a-c3b826337fcc"
      },
      "outputs": [
        {
          "name": "stdout",
          "text": "313/313 [==============================] - 59s 185ms/step\n",
          "output_type": "stream"
        },
        {
          "traceback": [
            "\u001b[0;31m---------------------------------------------------------------------------\u001b[0m",
            "\u001b[0;31mTypeError\u001b[0m                                 Traceback (most recent call last)",
            "\u001b[0;32m/tmp/ipykernel_31/4278232665.py\u001b[0m in \u001b[0;36m<cell line: 0>\u001b[0;34m()\u001b[0m\n\u001b[1;32m      2\u001b[0m \u001b[0;34m\u001b[0m\u001b[0m\n\u001b[1;32m      3\u001b[0m \u001b[0mpredictions\u001b[0m \u001b[0;34m=\u001b[0m \u001b[0mmodel\u001b[0m\u001b[0;34m.\u001b[0m\u001b[0mpredict\u001b[0m\u001b[0;34m(\u001b[0m\u001b[0mX_test\u001b[0m\u001b[0;34m)\u001b[0m\u001b[0;34m\u001b[0m\u001b[0;34m\u001b[0m\u001b[0m\n\u001b[0;32m----> 4\u001b[0;31m \u001b[0mpredictions\u001b[0m \u001b[0;34m=\u001b[0m \u001b[0mround\u001b[0m\u001b[0;34m(\u001b[0m\u001b[0mfloat\u001b[0m\u001b[0;34m(\u001b[0m\u001b[0mpredictions\u001b[0m\u001b[0;34m)\u001b[0m\u001b[0;34m)\u001b[0m\u001b[0;34m\u001b[0m\u001b[0;34m\u001b[0m\u001b[0m\n\u001b[0m\u001b[1;32m      5\u001b[0m \u001b[0mprint\u001b[0m\u001b[0;34m(\u001b[0m\u001b[0mclassification_report\u001b[0m\u001b[0;34m(\u001b[0m\u001b[0my_test\u001b[0m\u001b[0;34m,\u001b[0m \u001b[0mpredictions\u001b[0m\u001b[0;34m)\u001b[0m\u001b[0;34m)\u001b[0m\u001b[0;34m\u001b[0m\u001b[0;34m\u001b[0m\u001b[0m\n",
            "\u001b[0;31mTypeError\u001b[0m: only length-1 arrays can be converted to Python scalars"
          ],
          "ename": "TypeError",
          "evalue": "only length-1 arrays can be converted to Python scalars",
          "output_type": "error"
        }
      ],
      "execution_count": null
    },
    {
      "cell_type": "code",
      "source": [
        "from sklearn.metrics import roc_auc_score\n",
        "\n",
        "predictions = np.round(predictions)\n",
        "print(classification_report(y_test, predictions))\n",
        "print(roc_auc_score(y_test, predictions))"
      ],
      "metadata": {
        "trusted": true,
        "execution": {
          "iopub.status.busy": "2025-04-20T12:48:21.983516Z",
          "iopub.execute_input": "2025-04-20T12:48:21.983857Z",
          "iopub.status.idle": "2025-04-20T12:48:22.003684Z",
          "shell.execute_reply.started": "2025-04-20T12:48:21.983835Z",
          "shell.execute_reply": "2025-04-20T12:48:22.002952Z"
        },
        "id": "iK2na_qqb6Yw",
        "outputId": "f816c3fd-5797-4a31-c668-a768aa0d84c2"
      },
      "outputs": [
        {
          "name": "stdout",
          "text": "              precision    recall  f1-score   support\n\n           0       0.93      0.82      0.87      4961\n           1       0.84      0.94      0.89      5039\n\n    accuracy                           0.88     10000\n   macro avg       0.88      0.88      0.88     10000\nweighted avg       0.88      0.88      0.88     10000\n\n0.878451905013901\n",
          "output_type": "stream"
        }
      ],
      "execution_count": null
    },
    {
      "cell_type": "code",
      "source": [
        "model.save('/home/archbtw/utils/model.keras')"
      ],
      "metadata": {
        "trusted": true,
        "execution": {
          "iopub.status.busy": "2025-04-20T12:52:22.948101Z",
          "iopub.execute_input": "2025-04-20T12:52:22.948728Z",
          "iopub.status.idle": "2025-04-20T12:52:22.96876Z",
          "shell.execute_reply.started": "2025-04-20T12:52:22.948704Z",
          "shell.execute_reply": "2025-04-20T12:52:22.967851Z"
        },
        "id": "7Eq5Y3rWb6Yy",
        "outputId": "bc482a04-3b5e-41f6-dbdd-dde8952a9359"
      },
      "outputs": [
        {
          "traceback": [
            "\u001b[0;31m---------------------------------------------------------------------------\u001b[0m",
            "\u001b[0;31mFileNotFoundError\u001b[0m                         Traceback (most recent call last)",
            "\u001b[0;32m/tmp/ipykernel_31/643197944.py\u001b[0m in \u001b[0;36m<cell line: 0>\u001b[0;34m()\u001b[0m\n\u001b[0;32m----> 1\u001b[0;31m \u001b[0mmodel\u001b[0m\u001b[0;34m.\u001b[0m\u001b[0msave\u001b[0m\u001b[0;34m(\u001b[0m\u001b[0;34m'/home/archbtw/utils/model.keras'\u001b[0m\u001b[0;34m)\u001b[0m\u001b[0;34m\u001b[0m\u001b[0;34m\u001b[0m\u001b[0m\n\u001b[0m",
            "\u001b[0;32m/usr/local/lib/python3.11/dist-packages/tf_keras/src/utils/traceback_utils.py\u001b[0m in \u001b[0;36merror_handler\u001b[0;34m(*args, **kwargs)\u001b[0m\n\u001b[1;32m     68\u001b[0m             \u001b[0;31m# To get the full stack trace, call:\u001b[0m\u001b[0;34m\u001b[0m\u001b[0;34m\u001b[0m\u001b[0m\n\u001b[1;32m     69\u001b[0m             \u001b[0;31m# `tf.debugging.disable_traceback_filtering()`\u001b[0m\u001b[0;34m\u001b[0m\u001b[0;34m\u001b[0m\u001b[0m\n\u001b[0;32m---> 70\u001b[0;31m             \u001b[0;32mraise\u001b[0m \u001b[0me\u001b[0m\u001b[0;34m.\u001b[0m\u001b[0mwith_traceback\u001b[0m\u001b[0;34m(\u001b[0m\u001b[0mfiltered_tb\u001b[0m\u001b[0;34m)\u001b[0m \u001b[0;32mfrom\u001b[0m \u001b[0;32mNone\u001b[0m\u001b[0;34m\u001b[0m\u001b[0;34m\u001b[0m\u001b[0m\n\u001b[0m\u001b[1;32m     71\u001b[0m         \u001b[0;32mfinally\u001b[0m\u001b[0;34m:\u001b[0m\u001b[0;34m\u001b[0m\u001b[0;34m\u001b[0m\u001b[0m\n\u001b[1;32m     72\u001b[0m             \u001b[0;32mdel\u001b[0m \u001b[0mfiltered_tb\u001b[0m\u001b[0;34m\u001b[0m\u001b[0;34m\u001b[0m\u001b[0m\n",
            "\u001b[0;32m/usr/lib/python3.11/zipfile.py\u001b[0m in \u001b[0;36m__init__\u001b[0;34m(self, file, mode, compression, allowZip64, compresslevel, strict_timestamps, metadata_encoding)\u001b[0m\n\u001b[1;32m   1298\u001b[0m                         \u001b[0mfilemode\u001b[0m \u001b[0;34m=\u001b[0m \u001b[0mmodeDict\u001b[0m\u001b[0;34m[\u001b[0m\u001b[0mfilemode\u001b[0m\u001b[0;34m]\u001b[0m\u001b[0;34m\u001b[0m\u001b[0;34m\u001b[0m\u001b[0m\n\u001b[1;32m   1299\u001b[0m                         \u001b[0;32mcontinue\u001b[0m\u001b[0;34m\u001b[0m\u001b[0;34m\u001b[0m\u001b[0m\n\u001b[0;32m-> 1300\u001b[0;31m                     \u001b[0;32mraise\u001b[0m\u001b[0;34m\u001b[0m\u001b[0;34m\u001b[0m\u001b[0m\n\u001b[0m\u001b[1;32m   1301\u001b[0m                 \u001b[0;32mbreak\u001b[0m\u001b[0;34m\u001b[0m\u001b[0;34m\u001b[0m\u001b[0m\n\u001b[1;32m   1302\u001b[0m         \u001b[0;32melse\u001b[0m\u001b[0;34m:\u001b[0m\u001b[0;34m\u001b[0m\u001b[0;34m\u001b[0m\u001b[0m\n",
            "\u001b[0;31mFileNotFoundError\u001b[0m: [Errno 2] No such file or directory: '/home/archbtw/utils/model.keras'"
          ],
          "ename": "FileNotFoundError",
          "evalue": "[Errno 2] No such file or directory: '/home/archbtw/utils/model.keras'",
          "output_type": "error"
        }
      ],
      "execution_count": null
    },
    {
      "cell_type": "code",
      "source": [],
      "metadata": {
        "trusted": true,
        "id": "UGrrhVwvb6Yy"
      },
      "outputs": [],
      "execution_count": null
    }
  ]
}